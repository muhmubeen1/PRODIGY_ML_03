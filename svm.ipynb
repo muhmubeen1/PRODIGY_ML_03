{
 "cells": [
  {
   "cell_type": "code",
   "execution_count": 2,
   "metadata": {},
   "outputs": [],
   "source": [
    "# import the libraries\n",
    "import os\n",
    "import numpy as np\n",
    "import cv2\n",
    "import matplotlib.pyplot as plt\n",
    "from sklearn.model_selection import train_test_split\n",
    "from sklearn.svm import SVC\n",
    "from sklearn.metrics import accuracy_score\n",
    "\n"
   ]
  },
  {
   "cell_type": "code",
   "execution_count": 17,
   "metadata": {},
   "outputs": [],
   "source": [
    "IMAGE_SIZE =(64, 64)\n",
    "def load_images_from_mixed_folder(folder):\n",
    "    images = []\n",
    "    labels = []\n",
    "    for filename in os.listdir(folder):\n",
    "        if filename.endswith(\".jpg\"):  # Only process JPEG files\n",
    "            img_path = os.path.join(folder, filename)\n",
    "            img = cv2.imread(img_path)\n",
    "            if img is not None:\n",
    "                # Resize image and flatten it\n",
    "                img_resized = cv2.resize(img, IMAGE_SIZE)\n",
    "                img_flattened = img_resized.flatten()  # Flatten 2D image to 1D vector\n",
    "                images.append(img_flattened)\n",
    "                \n",
    "                # Assign label based on filename: 0 for cat, 1 for dog\n",
    "                if 'cat' in filename.lower():\n",
    "                    labels.append(0)  # Cat label\n",
    "                elif 'dog' in filename.lower():\n",
    "                    labels.append(1)  # Dog label\n",
    "                else:\n",
    "                    print(f\"Unknown label for file: {filename}\")  # Debugging message\n",
    "            else:\n",
    "                print(f\"Unable to load image: {img_path}\")\n",
    "        else:\n",
    "            print(f\"Skipping non-JPEG file: {filename}\")\n",
    "    return images, labels\n"
   ]
  },
  {
   "cell_type": "code",
   "execution_count": 18,
   "metadata": {},
   "outputs": [],
   "source": [
    "# load the images\n",
    "\n",
    "mixed_folder = 'train'\n",
    "\n",
    "images,labels = load_images_from_mixed_folder(mixed_folder)\n"
   ]
  },
  {
   "cell_type": "code",
   "execution_count": 19,
   "metadata": {},
   "outputs": [],
   "source": [
    "#convert the list into the numpy array\n",
    "X = np.array(images)\n",
    "y = np.array(labels)\n",
    "\n",
    "X = X/255.0"
   ]
  },
  {
   "cell_type": "code",
   "execution_count": 20,
   "metadata": {},
   "outputs": [
    {
     "name": "stdout",
     "output_type": "stream",
     "text": [
      "Number of images (X): 25000\n",
      "Number of labels (y): 25000\n"
     ]
    }
   ],
   "source": [
    "print(f'Number of images (X): {len(X)}')\n",
    "print(f'Number of labels (y): {len(y)}')\n"
   ]
  },
  {
   "cell_type": "code",
   "execution_count": 21,
   "metadata": {},
   "outputs": [],
   "source": [
    "# Split data into 80% training and 20% testing\n",
    "X_train, X_test, y_train, y_test = train_test_split(X, y, test_size=0.2, random_state=42)\n"
   ]
  },
  {
   "cell_type": "code",
   "execution_count": 22,
   "metadata": {},
   "outputs": [],
   "source": [
    "model = SVC(kernel='linear')\n"
   ]
  },
  {
   "cell_type": "code",
   "execution_count": 23,
   "metadata": {},
   "outputs": [],
   "source": [
    "model.fit(X_train,y_train)"
   ]
  }
 ],
 "metadata": {
  "kernelspec": {
   "display_name": "python_ml",
   "language": "python",
   "name": "python3"
  },
  "language_info": {
   "codemirror_mode": {
    "name": "ipython",
    "version": 3
   },
   "file_extension": ".py",
   "mimetype": "text/x-python",
   "name": "python",
   "nbconvert_exporter": "python",
   "pygments_lexer": "ipython3",
   "version": "3.11.9"
  }
 },
 "nbformat": 4,
 "nbformat_minor": 2
}
